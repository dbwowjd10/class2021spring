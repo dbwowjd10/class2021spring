{
  "nbformat": 4,
  "nbformat_minor": 0,
  "metadata": {
    "kernelspec": {
      "display_name": "Python 3",
      "language": "python",
      "name": "python3"
    },
    "language_info": {
      "codemirror_mode": {
        "name": "ipython",
        "version": 3
      },
      "file_extension": ".py",
      "mimetype": "text/x-python",
      "name": "python",
      "nbconvert_exporter": "python",
      "pygments_lexer": "ipython3",
      "version": "3.7.1"
    },
    "colab": {
      "name": "syntax.ipynb의 사본",
      "provenance": [],
      "include_colab_link": true
    }
  },
  "cells": [
    {
      "cell_type": "markdown",
      "metadata": {
        "id": "view-in-github",
        "colab_type": "text"
      },
      "source": [
        "<a href=\"https://colab.research.google.com/github/yjj2017130754/class2021Spring/blob/main/syntax.ipynb\" target=\"_parent\"><img src=\"https://colab.research.google.com/assets/colab-badge.svg\" alt=\"Open In Colab\"/></a>"
      ]
    },
    {
      "cell_type": "code",
      "metadata": {
        "id": "Fu2mzgrqSLAU",
        "colab": {
          "base_uri": "https://localhost:8080/"
        },
        "outputId": "698e3673-07d4-4e4b-8e32-ce8f9cae9a3b"
      },
      "source": [
        "a = [1, 2, 3, 4]\n",
        "for i in a:\n",
        "    print(i)"
      ],
      "execution_count": 7,
      "outputs": [
        {
          "output_type": "stream",
          "text": [
            "1\n",
            "2\n",
            "3\n",
            "4\n"
          ],
          "name": "stdout"
        }
      ]
    },
    {
      "cell_type": "markdown",
      "metadata": {
        "id": "gjDq8wu5oShq"
      },
      "source": [
        "-for i in 리스트 => for루프를 4번 돈다. (리스트가 4개로 이루어져 있을 때)\r\n",
        "\r\n",
        "-for i in range(4) => [0,1,2,3]의 리스트와 같은 경우, range(0.4)와 같은 경우\r\n",
        "\r\n",
        "-리스트가 4개로 이루어져 있을 때 range(5) 또는 range(0.5)를 집어넣은 후 a[ ]을 출력하면 오류가 남\r\n",
        "\r\n",
        "-range(0,7,2) => 0,2,4,6(0에서 6까지 2의 차이를 둠)"
      ]
    },
    {
      "cell_type": "code",
      "metadata": {
        "id": "WYkXUSfIpKcE",
        "colab": {
          "base_uri": "https://localhost:8080/"
        },
        "outputId": "f357b115-f895-4560-a4b2-354e7f5ca932"
      },
      "source": [
        "for i in range(0,7,2): \r\n",
        "  print (i)"
      ],
      "execution_count": null,
      "outputs": [
        {
          "output_type": "stream",
          "text": [
            "0\n",
            "2\n",
            "4\n",
            "6\n"
          ],
          "name": "stdout"
        }
      ]
    },
    {
      "cell_type": "code",
      "metadata": {
        "id": "XSJxLJVCSLAW",
        "colab": {
          "base_uri": "https://localhost:8080/"
        },
        "outputId": "e28fbe20-920d-49e8-e682-fb21830e44cc"
      },
      "source": [
        "a = [11, 2, 3, 4]\n",
        "for i in range(len(a)):\n",
        "    print(a[i])\n",
        "for i in range(3):\n",
        "  print(i)"
      ],
      "execution_count": null,
      "outputs": [
        {
          "output_type": "stream",
          "text": [
            "11\n",
            "2\n",
            "3\n",
            "4\n",
            "0\n",
            "1\n",
            "2\n"
          ],
          "name": "stdout"
        }
      ]
    },
    {
      "cell_type": "code",
      "metadata": {
        "id": "VTfxVRdgSLAW",
        "outputId": "7b430ba8-015e-4296-c883-ce2b3f9ed43b"
      },
      "source": [
        "a = ['red', 'green', 'blue', 'purple']\n",
        "for i in a:\n",
        "    print(i)"
      ],
      "execution_count": null,
      "outputs": [
        {
          "output_type": "stream",
          "text": [
            "red\n",
            "green\n",
            "blue\n",
            "purple\n"
          ],
          "name": "stdout"
        }
      ]
    },
    {
      "cell_type": "code",
      "metadata": {
        "id": "Vc-7pW85SLAW",
        "colab": {
          "base_uri": "https://localhost:8080/"
        },
        "outputId": "501330eb-8fd2-40c1-b79c-457a45b9ae62"
      },
      "source": [
        "a = ['red', 'green', 'blue', 'purple']\n",
        "for i in range(len(a)):\n",
        "    print(a[i])\n",
        "for i in range(2):\n",
        "  print(a[i])"
      ],
      "execution_count": null,
      "outputs": [
        {
          "output_type": "stream",
          "text": [
            "red\n",
            "green\n",
            "blue\n",
            "purple\n",
            "red\n",
            "green\n"
          ],
          "name": "stdout"
        }
      ]
    },
    {
      "cell_type": "code",
      "metadata": {
        "id": "XOdMzcWsSLAX",
        "outputId": "c9c342e6-cdd1-4e53-cdac-6aa00cfd0892"
      },
      "source": [
        "a = [\"red\", \"green\", \"blue\", \"purple\"]\n",
        "b = [0.2, 0.3, 0.1, 0.4]\n",
        "for i, a_ in enumerate(a):\n",
        "    print(\"{}: {}%\".format(a_, b[i]*100))"
      ],
      "execution_count": null,
      "outputs": [
        {
          "output_type": "stream",
          "text": [
            "red: 20.0%\n",
            "green: 30.0%\n",
            "blue: 10.0%\n",
            "purple: 40.0%\n"
          ],
          "name": "stdout"
        }
      ]
    },
    {
      "cell_type": "code",
      "metadata": {
        "id": "Ej_gWa3oSLAX",
        "outputId": "1de011cd-c635-4565-d51a-aa3a8dec287c"
      },
      "source": [
        "a = [\"red\", \"green\", \"blue\", \"purple\"]\n",
        "b = [0.2, 0.3, 0.1, 0.4]\n",
        "for a_, b_ in zip(a, b):\n",
        "    print(\"{}: {}%\".format(a_, b_*100))\n"
      ],
      "execution_count": null,
      "outputs": [
        {
          "output_type": "stream",
          "text": [
            "red: 20.0%\n",
            "green: 30.0%\n",
            "blue: 10.0%\n",
            "purple: 40.0%\n"
          ],
          "name": "stdout"
        }
      ]
    },
    {
      "cell_type": "code",
      "metadata": {
        "id": "dD-ephD3SLAX",
        "colab": {
          "base_uri": "https://localhost:8080/"
        },
        "outputId": "f890edb1-faf8-4828-9e06-be26874400b0"
      },
      "source": [
        "a = 1\n",
        "if a == 0:\n",
        "    print(a)\n",
        "else:\n",
        "    print(a+1)"
      ],
      "execution_count": null,
      "outputs": [
        {
          "output_type": "stream",
          "text": [
            "2\n"
          ],
          "name": "stdout"
        }
      ]
    },
    {
      "cell_type": "markdown",
      "metadata": {
        "id": "cIOMjH3Mpnzx"
      },
      "source": [
        "## if 조건문\r\n",
        "-if \r\n",
        "\r\n",
        "-else : if명제가 거짓일 때(else가 없다면 명제가 거짓일 때 아무것도 출력되지 않음)\r\n",
        "\r\n",
        "- = : assign / == : equal"
      ]
    },
    {
      "cell_type": "code",
      "metadata": {
        "id": "M0AZaDMvSLAY",
        "outputId": "b25a5fe6-defa-4549-85b0-0c146ff7a2a0"
      },
      "source": [
        "for i in range(1, 3):\n",
        "    for j in range(3, 5):\n",
        "        print(i*j)"
      ],
      "execution_count": null,
      "outputs": [
        {
          "output_type": "stream",
          "text": [
            "3\n",
            "4\n",
            "6\n",
            "8\n"
          ],
          "name": "stdout"
        }
      ]
    },
    {
      "cell_type": "markdown",
      "metadata": {
        "id": "ZxvP0WXtq3EH"
      },
      "source": [
        "i -> 1,2   j -> 3,4\r\n",
        "\r\n",
        "1 * 3 ->  1 * 4 -> 2 * 3 -> 2 * 4\r\n",
        "\r\n",
        "i=1일 때의 경우(j=1일 때, j=2일 때) -> i=2일 때의 경우(j=1일 때, j=2일 때)"
      ]
    },
    {
      "cell_type": "code",
      "metadata": {
        "id": "ZPpZmVIHSLAY",
        "outputId": "0bbcc529-c1d8-4774-e1ad-9de8b9e065ce"
      },
      "source": [
        "for i in range(1, 3):\n",
        "    for j in range(3, 5):\n",
        "        if j >=4:\n",
        "            print(i*j)"
      ],
      "execution_count": null,
      "outputs": [
        {
          "output_type": "stream",
          "text": [
            "4\n",
            "8\n"
          ],
          "name": "stdout"
        }
      ]
    },
    {
      "cell_type": "code",
      "metadata": {
        "id": "JQXk5vi0SLAY",
        "outputId": "cd3306f3-6d6d-446e-dd4a-f7f4e11dd967"
      },
      "source": [
        "a = [1, 2, 3, 4]\n",
        "b = [i for i in a if i >=2]\n",
        "b"
      ],
      "execution_count": null,
      "outputs": [
        {
          "output_type": "execute_result",
          "data": {
            "text/plain": [
              "[2, 3, 4]"
            ]
          },
          "metadata": {
            "tags": []
          },
          "execution_count": 12
        }
      ]
    },
    {
      "cell_type": "markdown",
      "metadata": {
        "id": "qbDU6UCqrxUk"
      },
      "source": [
        "i for i in a if i >=2\r\n",
        "\r\n",
        "=>\r\n",
        "\r\n",
        "for i in a:\r\n",
        "\r\n",
        "  if >= 2:\r\n",
        "\r\n",
        "  i\r\n",
        "\r\n",
        "를 리스트로 만들 때 사용"
      ]
    },
    {
      "cell_type": "code",
      "metadata": {
        "id": "MDmBGZ3LSLAZ",
        "outputId": "bd06f885-7334-43d9-d92d-848c615f6771"
      },
      "source": [
        "a = ['red', 'green', 'blue', 'purple']\n",
        "b = [i for i in a if len(i) >=4]\n",
        "b"
      ],
      "execution_count": null,
      "outputs": [
        {
          "output_type": "execute_result",
          "data": {
            "text/plain": [
              "['green', 'blue', 'purple']"
            ]
          },
          "metadata": {
            "tags": []
          },
          "execution_count": 13
        }
      ]
    },
    {
      "cell_type": "markdown",
      "metadata": {
        "id": "yopfvGBCtwZv"
      },
      "source": [
        "for i in a :\r\n",
        "\r\n",
        "if lent(i) >= 4\r\n",
        "\r\n",
        "i\r\n",
        "\r\n",
        "red의 길이 -> 3 -> 못 들어감\r\n",
        "\r\n",
        "green의 길이 -> 5 -> 들어감\r\n",
        "\r\n",
        "..."
      ]
    }
  ]
}