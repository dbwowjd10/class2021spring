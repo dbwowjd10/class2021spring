{
  "nbformat": 4,
  "nbformat_minor": 0,
  "metadata": {
    "colab": {
      "name": "Untitled0.ipynb",
      "provenance": [],
      "authorship_tag": "ABX9TyM45aYB36beM5PAYkaLLDeB",
      "include_colab_link": true
    },
    "kernelspec": {
      "name": "python3",
      "display_name": "Python 3"
    },
    "language_info": {
      "name": "python"
    }
  },
  "cells": [
    {
      "cell_type": "markdown",
      "metadata": {
        "id": "view-in-github",
        "colab_type": "text"
      },
      "source": [
        "<a href=\"https://colab.research.google.com/github/yjj2017130754/class2021Spring/blob/main/20210331.ipynb\" target=\"_parent\"><img src=\"https://colab.research.google.com/assets/colab-badge.svg\" alt=\"Open In Colab\"/></a>"
      ]
    },
    {
      "cell_type": "markdown",
      "metadata": {
        "id": "g1_BN0kh31s7"
      },
      "source": [
        "##duration\n",
        "[a] : 0.422219sec\n",
        "[e] : 0.348sec\n",
        "##pitch\n",
        "[a] : 93.39Hz \n",
        "[e] : 93.24Hz \n",
        "##intensity\n",
        "[a] : 70.77dB\n",
        "[e] : 68.01dB\n",
        "##formant\n",
        "[a] : 670.6Hz,1213Hz\n",
        "[e] : 511.1Hz,1883Hz "
      ]
    }
  ]
}