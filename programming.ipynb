{
  "nbformat": 4,
  "nbformat_minor": 0,
  "metadata": {
    "colab": {
      "name": "programming.ipynb",
      "provenance": [],
      "authorship_tag": "ABX9TyO64MHlQGQ33xkjDbtkSphv",
      "include_colab_link": true
    },
    "kernelspec": {
      "name": "python3",
      "display_name": "Python 3"
    }
  },
  "cells": [
    {
      "cell_type": "markdown",
      "metadata": {
        "id": "view-in-github",
        "colab_type": "text"
      },
      "source": [
        "<a href=\"https://colab.research.google.com/github/yjj2017130754/class2021Spring/blob/main/programming.ipynb\" target=\"_parent\"><img src=\"https://colab.research.google.com/assets/colab-badge.svg\" alt=\"Open In Colab\"/></a>"
      ]
    },
    {
      "cell_type": "markdown",
      "metadata": {
        "id": "93eyRxPDpA27"
      },
      "source": [
        "## 프로그래밍 language\r\n",
        "단어 + 문법 => 인간 언어\r\n",
        "1.   단어\r\n",
        "\r\n",
        " a(변수) = 1(내용) : cpu \r\n",
        " => 내용을 변수에 할당\r\n",
        "2.   문법\r\n",
        "\r\n",
        "  문법= 제어문\r\n",
        " - 반복 : for\r\n",
        " - 조건 : if\r\n",
        "\r\n",
        "*변수, 제어문, 함수 \r\n",
        " \r\n",
        "  y=f(x)\r\n",
        "  y -> 출력\r\n",
        "  x -> 입력\r\n",
        "  ex) 인간의 몸, 음성인식 등\r\n",
        "  - 컴퓨터의 함수 \r\n",
        "\r\n",
        "  a=add(1,2)\r\n",
        "  1,2 -> 입력값\r\n",
        "  a -> 출력값\r\n",
        "  \r\n",
        "      "
      ]
    }
  ]
}